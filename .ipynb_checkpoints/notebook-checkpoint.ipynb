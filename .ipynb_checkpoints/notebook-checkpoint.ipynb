{
 "cells": [
  {
   "cell_type": "markdown",
   "metadata": {},
   "source": [
    "# World Health Organization Covid-19 Reporting"
   ]
  },
  {
   "cell_type": "code",
   "execution_count": 1,
   "metadata": {},
   "outputs": [],
   "source": [
    "from bs4 import BeautifulSoup\n",
    "import requests, wget, datetime, PyPDF2"
   ]
  },
  {
   "cell_type": "code",
   "execution_count": 14,
   "metadata": {},
   "outputs": [],
   "source": [
    "site = \"https://www.who.int/emergencies/diseases/novel-coronavirus-2019/situation-reports\"\n",
    "req = requests.get(site)\n",
    "soup = BeautifulSoup(req.content, 'html.parser')"
   ]
  },
  {
   "cell_type": "code",
   "execution_count": 37,
   "metadata": {},
   "outputs": [],
   "source": [
    "sitrep = 'situation-reports' + '_' + str(datetime.date.today())\n",
    "with open(sitrep, 'w') as f:\n",
    "    f.writelines(req.text)"
   ]
  },
  {
   "cell_type": "code",
   "execution_count": 124,
   "metadata": {},
   "outputs": [],
   "source": [
    "reports = [ 'https://www.who.int' + link for link in \\\n",
    "          [ l.get('href') for l in soup.find_all('a') ] \\\n",
    "          if link.startswith('/docs') ]"
   ]
  },
  {
   "cell_type": "code",
   "execution_count": 132,
   "metadata": {},
   "outputs": [],
   "source": [
    "def dl_todays_report():\n",
    "    wget.download(reports[1])\n",
    "\n",
    "def dl_all_reports():\n",
    "    for r in reports:\n",
    "        wget.download(r)\n",
    "\n",
    "#verify all reports dl'd and not tmp'd or dup'd\n",
    "#if reports all dl'd but for today, only get today"
   ]
  },
  {
   "cell_type": "code",
   "execution_count": 1,
   "metadata": {},
   "outputs": [],
   "source": [
    "#need programatic selection of filename\n",
    "rr_file = open('20200331-sitrep-71-covid-19.pdf','rb')"
   ]
  },
  {
   "cell_type": "code",
   "execution_count": 4,
   "metadata": {},
   "outputs": [],
   "source": [
    "rr = PyPDF2.PdfFileReader(rr_file)"
   ]
  },
  {
   "cell_type": "code",
   "execution_count": 5,
   "metadata": {},
   "outputs": [],
   "source": [
    "page = ''\n",
    "for p in range(rr.getNumPages()):\n",
    "    page += rr.getPage(p).extractText()"
   ]
  },
  {
   "cell_type": "markdown",
   "metadata": {},
   "source": [
    "SURVEILLANCE\n",
    "\n",
    "Date\n",
    "\n",
    "Area | Total Cases | New Cases | Total Deaths | New Deaths | Since Last Reported Case\n"
   ]
  },
  {
   "cell_type": "code",
   "execution_count": 222,
   "metadata": {},
   "outputs": [],
   "source": [
    "#pull SURVEILLANCE BLOCK\n",
    "#begins with 'SURVEILLANCE'\n",
    "#ends with |^GRAND TOTAL| after \\n \n"
   ]
  },
  {
   "cell_type": "markdown",
   "metadata": {},
   "source": [
    "# pull date\n",
    "cases\n",
    "\n",
    "and deaths\n",
    "\n",
    ". Data as of"
   ]
  },
  {
   "cell_type": "code",
   "execution_count": 77,
   "metadata": {},
   "outputs": [],
   "source": [
    "#pull date\n",
    "def get_date():\n",
    "    dotData=[ page.splitlines().index(l) for l in page.splitlines() if l.startswith('. Data') ][0]\n",
    "    day = page.splitlines()[dotData+2]\n",
    "    month = page.splitlines()[dotData+4]\n",
    "    year = page.splitlines()[dotData+6]\n",
    "    date = \"%s-%s-%s\" % (month,day,year)\n",
    "    return date"
   ]
  },
  {
   "cell_type": "markdown",
   "metadata": {},
   "source": [
    "# pull table data"
   ]
  },
  {
   "cell_type": "code",
   "execution_count": 213,
   "metadata": {},
   "outputs": [],
   "source": [
    "#pull table data\n",
    "report_begin=[ page.splitlines().index(l) for l in page.splitlines() if l.startswith('reported case') ][0] +2\n",
    "report_end=[ page.splitlines().index(l) for l in page.splitlines() if l.startswith('Numbers') ][0] \n",
    "#surveillance_data = [ c.strip('\\\"') for c in \\\n",
    "#                    [ l for l in page.splitlines()[report_begin:report_end] if l != ' ' ] ]\n",
    "surveillance_data = [ l for l in page.splitlines()[report_begin:report_end] if l != ' ' ]\n"
   ]
  },
  {
   "cell_type": "code",
   "execution_count": null,
   "metadata": {},
   "outputs": [],
   "source": [
    "#if 'REGION' in line, line = region\n",
    "#if 'Local transmission' in line, line[+2] = loc_trans \n",
    "#  and line[+3] = end"
   ]
  },
  {
   "cell_type": "code",
   "execution_count": 191,
   "metadata": {},
   "outputs": [],
   "source": [
    "def get_data():\n",
    "    result = {}\n",
    "    for l in surveillance_data:\n",
    "        region = ''\n",
    "        area = ''\n",
    "        if 'Region' in l:\n",
    "            region = l\n",
    "        else:\n",
    "            region = region\n",
    "            for c in l:\n",
    "                if c.isalpha() or c.isspace():\n",
    "                    area += c\n",
    "            if area != '':\n",
    "                block_begin = surveillance_data.index(area)\n",
    "                total_confirmed = surveillance_data[block_begin+1]\n",
    "                total_new = surveillance_data[block_begin+2]\n",
    "                total_deaths = surveillance_data[block_begin+3]\n",
    "                total_new_deaths = surveillance_data[block_begin+4]\n",
    "                result[region] =  [ area,total_confirmed,total_new,total_deaths,total_new_deaths]\n",
    "    return result"
   ]
  },
  {
   "cell_type": "code",
   "execution_count": 219,
   "metadata": {},
   "outputs": [
    {
     "name": "stdout",
     "output_type": "stream",
     "text": [
      " ['China', '82545', '98', '3314', '4']\n",
      " ['Republic of Korea', '9786', '125', '162', '4']\n",
      " ['Australia', '4359', '393', '18', '2']\n",
      " ['Malaysia', '2626', '156', '37', '3']\n",
      " ['Japan', '1953', '87', '56', '2']\n",
      " ['Philippines', '1546', '128', '78', '7']\n",
      " ['Singapore', '879', '35', '3', '0']\n",
      " ['New Zealand', '600', '48', '1', '0']\n",
      " ['Viet Nam', '203', '15', '0', '0']\n",
      " ['Brunei Darussalam', '127', '1', '1', '0']\n",
      " ['Cambodia', '107', '4', '0', '0']\n",
      " ['Mongolia', '12', '0', '0', '0']\n",
      " ['Imported cases only', '3', \"Lao People's \", 'Democratic Republic', '8']\n"
     ]
    },
    {
     "ename": "ValueError",
     "evalue": "'Lao Peoples ' is not in list",
     "output_type": "error",
     "traceback": [
      "\u001b[0;31m---------------------------------------------------------------------------\u001b[0m",
      "\u001b[0;31mValueError\u001b[0m                                Traceback (most recent call last)",
      "\u001b[0;32m<ipython-input-219-ea5d3b73e499>\u001b[0m in \u001b[0;36m<module>\u001b[0;34m\u001b[0m\n\u001b[1;32m     16\u001b[0m                     \u001b[0marea\u001b[0m \u001b[0;34m+=\u001b[0m \u001b[0mc\u001b[0m\u001b[0;34m\u001b[0m\u001b[0m\n\u001b[1;32m     17\u001b[0m         \u001b[0;32mif\u001b[0m \u001b[0marea\u001b[0m\u001b[0;34m:\u001b[0m\u001b[0;34m\u001b[0m\u001b[0m\n\u001b[0;32m---> 18\u001b[0;31m             \u001b[0mblock_begin\u001b[0m \u001b[0;34m=\u001b[0m \u001b[0msurveillance_data\u001b[0m\u001b[0;34m.\u001b[0m\u001b[0mindex\u001b[0m\u001b[0;34m(\u001b[0m\u001b[0marea\u001b[0m\u001b[0;34m)\u001b[0m\u001b[0;34m\u001b[0m\u001b[0m\n\u001b[0m\u001b[1;32m     19\u001b[0m             \u001b[0mtotal_confirmed\u001b[0m \u001b[0;34m=\u001b[0m \u001b[0msurveillance_data\u001b[0m\u001b[0;34m[\u001b[0m\u001b[0mblock_begin\u001b[0m\u001b[0;34m+\u001b[0m\u001b[0;36m1\u001b[0m\u001b[0;34m]\u001b[0m\u001b[0;34m\u001b[0m\u001b[0m\n\u001b[1;32m     20\u001b[0m             \u001b[0mtotal_new\u001b[0m \u001b[0;34m=\u001b[0m \u001b[0msurveillance_data\u001b[0m\u001b[0;34m[\u001b[0m\u001b[0mblock_begin\u001b[0m\u001b[0;34m+\u001b[0m\u001b[0;36m2\u001b[0m\u001b[0;34m]\u001b[0m\u001b[0;34m\u001b[0m\u001b[0m\n",
      "\u001b[0;31mValueError\u001b[0m: 'Lao Peoples ' is not in list"
     ]
    }
   ],
   "source": [
    "for l in surveillance_data:\n",
    "    region = ''\n",
    "    area = ''\n",
    "    trans = ''\n",
    "    if 'Region' in l:\n",
    "        region = l\n",
    "    else if region\n",
    "        region = region\n",
    "        if 'Imported' in l or 'Local' in l:\n",
    "            trans = l\n",
    "        else:\n",
    "            for c in l:\n",
    "                if c.isalpha() or c.isspace():\n",
    "                    area += c           \n",
    "        if area:\n",
    "            block_begin = surveillance_data.index(area)\n",
    "            total_confirmed = surveillance_data[block_begin+1]\n",
    "            total_new = surveillance_data[block_begin+2]\n",
    "            total_deaths = surveillance_data[block_begin+3]\n",
    "            total_new_deaths = surveillance_data[block_begin+4]\n",
    "            print(region,[ area,total_confirmed,total_new,total_deaths,total_new_deaths])"
   ]
  },
  {
   "cell_type": "code",
   "execution_count": 237,
   "metadata": {},
   "outputs": [
    {
     "data": {
      "text/plain": [
       "[0, 140, 572, 645, 798, 1167]"
      ]
     },
     "execution_count": 237,
     "metadata": {},
     "output_type": "execute_result"
    }
   ],
   "source": [
    "region_index = []\n",
    "for ri in surveillance_data:\n",
    "    if 'Region' in ri:\n",
    "        #region_index[ri] = surveillance_data.index(ri)\n",
    "        region_index.append(surveillance_data.index(ri))\n",
    "region_index"
   ]
  },
  {
   "cell_type": "code",
   "execution_count": 273,
   "metadata": {},
   "outputs": [],
   "source": [
    "ai = {}\n",
    "for i in range(len(region_index)):\n",
    "    for idx in range(i,region_index[i-1]):\n",
    "        ai[surveillance_data[region_index[i]]] = [ idx , ]"
   ]
  },
  {
   "cell_type": "code",
   "execution_count": 274,
   "metadata": {},
   "outputs": [
    {
     "data": {
      "text/plain": [
       "{'Western Pacific Region': [1166],\n",
       " 'East Asia Region': [139],\n",
       " 'Eastern Mediterranean Region': [571],\n",
       " 'Region of the Americas': [644],\n",
       " 'African Region': [797]}"
      ]
     },
     "execution_count": 274,
     "metadata": {},
     "output_type": "execute_result"
    }
   ],
   "source": [
    "ai"
   ]
  },
  {
   "cell_type": "code",
   "execution_count": 268,
   "metadata": {},
   "outputs": [
    {
     "data": {
      "text/plain": [
       "1167"
      ]
     },
     "execution_count": 268,
     "metadata": {},
     "output_type": "execute_result"
    }
   ],
   "source": [
    "region_index[5]"
   ]
  },
  {
   "cell_type": "code",
   "execution_count": 238,
   "metadata": {},
   "outputs": [
    {
     "data": {
      "text/plain": [
       "'European Region '"
      ]
     },
     "execution_count": 238,
     "metadata": {},
     "output_type": "execute_result"
    }
   ],
   "source": [
    "surveillance_data[140]"
   ]
  },
  {
   "cell_type": "code",
   "execution_count": null,
   "metadata": {},
   "outputs": [],
   "source": []
  }
 ],
 "metadata": {
  "kernelspec": {
   "display_name": "Python 3",
   "language": "python",
   "name": "python3"
  },
  "language_info": {
   "codemirror_mode": {
    "name": "ipython",
    "version": 3
   },
   "file_extension": ".py",
   "mimetype": "text/x-python",
   "name": "python",
   "nbconvert_exporter": "python",
   "pygments_lexer": "ipython3",
   "version": "3.7.0"
  }
 },
 "nbformat": 4,
 "nbformat_minor": 4
}
