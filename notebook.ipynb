{
 "cells": [
  {
   "cell_type": "markdown",
   "metadata": {},
   "source": [
    "# World Health Organization Covid-19 Reporting"
   ]
  },
  {
   "cell_type": "code",
   "execution_count": 107,
   "metadata": {},
   "outputs": [],
   "source": [
    "from bs4 import BeautifulSoup\n",
    "import requests, wget, datetime, PyPDF2, os"
   ]
  },
  {
   "cell_type": "code",
   "execution_count": 12,
   "metadata": {},
   "outputs": [],
   "source": [
    "site = \"https://www.who.int/emergencies/diseases/novel-coronavirus-2019/situation-reports\"\n",
    "req = requests.get(site)\n",
    "soup = BeautifulSoup(req.content, 'html.parser')"
   ]
  },
  {
   "cell_type": "code",
   "execution_count": 13,
   "metadata": {},
   "outputs": [],
   "source": [
    "sitrep = 'situation-reports' + '_' + str(datetime.date.today())\n",
    "with open(sitrep, 'w') as f:\n",
    "    f.writelines(req.text)"
   ]
  },
  {
   "cell_type": "code",
   "execution_count": 14,
   "metadata": {},
   "outputs": [],
   "source": [
    "reports = [ 'https://www.who.int' + link for link in \\\n",
    "          [ l.get('href') for l in soup.find_all('a') ] \\\n",
    "          if link.startswith('/docs') ]"
   ]
  },
  {
   "cell_type": "code",
   "execution_count": 110,
   "metadata": {},
   "outputs": [
    {
     "ename": "FileExistsError",
     "evalue": "[Errno 17] File exists: 'reports'",
     "output_type": "error",
     "traceback": [
      "\u001b[0;31m---------------------------------------------------------------------------\u001b[0m",
      "\u001b[0;31mFileExistsError\u001b[0m                           Traceback (most recent call last)",
      "\u001b[0;32m<ipython-input-110-f732880b8df5>\u001b[0m in \u001b[0;36m<module>\u001b[0;34m\u001b[0m\n\u001b[1;32m      1\u001b[0m \u001b[0;31m#verify all reports dl'd and not tmp'd or dup'd\u001b[0m\u001b[0;34m\u001b[0m\u001b[0;34m\u001b[0m\u001b[0m\n\u001b[1;32m      2\u001b[0m \u001b[0;31m#if reports all dl'd but for today, only get today\u001b[0m\u001b[0;34m\u001b[0m\u001b[0;34m\u001b[0m\u001b[0m\n\u001b[0;32m----> 3\u001b[0;31m \u001b[0mos\u001b[0m\u001b[0;34m.\u001b[0m\u001b[0mmkdir\u001b[0m\u001b[0;34m(\u001b[0m\u001b[0;34m'reports'\u001b[0m\u001b[0;34m)\u001b[0m\u001b[0;34m\u001b[0m\u001b[0m\n\u001b[0m\u001b[1;32m      4\u001b[0m \u001b[0;32mdef\u001b[0m \u001b[0mdl_todays_report\u001b[0m\u001b[0;34m(\u001b[0m\u001b[0;34m)\u001b[0m\u001b[0;34m:\u001b[0m\u001b[0;34m\u001b[0m\u001b[0m\n\u001b[1;32m      5\u001b[0m     \u001b[0mwget\u001b[0m\u001b[0;34m.\u001b[0m\u001b[0mdownload\u001b[0m\u001b[0;34m(\u001b[0m\u001b[0mreports\u001b[0m\u001b[0;34m[\u001b[0m\u001b[0;36m1\u001b[0m\u001b[0;34m]\u001b[0m\u001b[0;34m,\u001b[0m\u001b[0mout\u001b[0m\u001b[0;34m=\u001b[0m\u001b[0;34m'reports/'\u001b[0m\u001b[0;34m)\u001b[0m\u001b[0;34m\u001b[0m\u001b[0m\n",
      "\u001b[0;31mFileExistsError\u001b[0m: [Errno 17] File exists: 'reports'"
     ]
    }
   ],
   "source": [
    "#verify all reports dl'd and not tmp'd or dup'd\n",
    "#if reports all dl'd but for today, only get today\n",
    "os.mkdir('reports')\n",
    "def dl_todays_report():\n",
    "    wget.download(reports[1],out='reports/')\n",
    "\n",
    "def dl_all_reports():\n",
    "    for r in reports:\n",
    "        wget.download(r,out='reports/')"
   ]
  },
  {
   "cell_type": "markdown",
   "metadata": {},
   "source": [
    "# Extract table data from pdf\n",
    "\n",
    "SURVEILLANCE\n",
    "\n",
    "Date\n",
    "\n",
    "Area | Total Cases | New Cases | Total Deaths | New Deaths | Since Last Reported Case"
   ]
  },
  {
   "cell_type": "code",
   "execution_count": 18,
   "metadata": {},
   "outputs": [],
   "source": [
    "#need programatic selection of filename\n",
    "#database data\n",
    "#process all files\n",
    "#process newest/unprocessed files\n",
    "rr_file = open('reports/20200331-sitrep-71-covid-19.pdf','rb')\n",
    "rr = PyPDF2.PdfFileReader(rr_file)"
   ]
  },
  {
   "cell_type": "code",
   "execution_count": 19,
   "metadata": {},
   "outputs": [],
   "source": [
    "page = ''\n",
    "for p in range(rr.getNumPages()):\n",
    "    page += rr.getPage(p).extractText()"
   ]
  },
  {
   "cell_type": "code",
   "execution_count": 222,
   "metadata": {},
   "outputs": [],
   "source": [
    "#pull SURVEILLANCE BLOCK\n",
    "#begins with 'SURVEILLANCE'\n",
    "#ends with |^GRAND TOTAL| after \\n \n"
   ]
  },
  {
   "cell_type": "markdown",
   "metadata": {},
   "source": [
    "# pull date\n",
    "cases\n",
    "\n",
    "and deaths\n",
    "\n",
    ". Data as of"
   ]
  },
  {
   "cell_type": "code",
   "execution_count": 77,
   "metadata": {},
   "outputs": [],
   "source": [
    "#pull date\n",
    "def get_date():\n",
    "    dotData=[ page.splitlines().index(l) for l in page.splitlines() if l.startswith('. Data') ][0]\n",
    "    day = page.splitlines()[dotData+2]\n",
    "    month = page.splitlines()[dotData+4]\n",
    "    year = page.splitlines()[dotData+6]\n",
    "    date = \"%s-%s-%s\" % (month,day,year)\n",
    "    return date"
   ]
  },
  {
   "cell_type": "markdown",
   "metadata": {},
   "source": [
    "# pull table data"
   ]
  },
  {
   "cell_type": "code",
   "execution_count": 20,
   "metadata": {},
   "outputs": [],
   "source": [
    "#pull table data\n",
    "report_begin=[ page.splitlines().index(l) for l in page.splitlines() if l.startswith('reported case') ][0] +2\n",
    "report_end=[ page.splitlines().index(l) for l in page.splitlines() if l.startswith('Numbers') ][0] \n",
    "#surveillance_data = [ c.strip('\\\"') for c in \\\n",
    "#                    [ l for l in page.splitlines()[report_begin:report_end] if l != ' ' ] ]\n",
    "surveillance_data = [ l for l in page.splitlines()[report_begin:report_end] if l != ' ' ]\n"
   ]
  },
  {
   "cell_type": "code",
   "execution_count": null,
   "metadata": {},
   "outputs": [],
   "source": [
    "#if 'REGION' in line, line = region\n",
    "#if 'Local transmission' in line, line[+2] = loc_trans \n",
    "#  and line[+3] = end"
   ]
  },
  {
   "cell_type": "markdown",
   "metadata": {},
   "source": [
    "# extract by identification relativity"
   ]
  },
  {
   "cell_type": "code",
   "execution_count": 191,
   "metadata": {},
   "outputs": [],
   "source": [
    "def get_data():\n",
    "    result = {}\n",
    "    for l in surveillance_data:\n",
    "        region = ''\n",
    "        area = ''\n",
    "        if 'Region' in l:\n",
    "            region = l\n",
    "        else:\n",
    "            region = region\n",
    "            for c in l:\n",
    "                if c.isalpha() or c.isspace():\n",
    "                    area += c\n",
    "            if area != '':\n",
    "                block_begin = surveillance_data.index(area)\n",
    "                total_confirmed = surveillance_data[block_begin+1]\n",
    "                total_new = surveillance_data[block_begin+2]\n",
    "                total_deaths = surveillance_data[block_begin+3]\n",
    "                total_new_deaths = surveillance_data[block_begin+4]\n",
    "                result[region] =  [ area,total_confirmed,total_new,total_deaths,total_new_deaths]\n",
    "    return result"
   ]
  },
  {
   "cell_type": "code",
   "execution_count": 32,
   "metadata": {},
   "outputs": [],
   "source": [
    "for l in surveillance_data:\n",
    "    region = ''\n",
    "    area = ''\n",
    "    trans = ''\n",
    "    if 'Region' in l:\n",
    "        region = l\n",
    "    else:\n",
    "        if region:\n",
    "            if 'Imported' in l or 'Local' in l:\n",
    "                trans = l\n",
    "            else:\n",
    "                for c in l:\n",
    "                    if c.isalpha() or c.isspace():\n",
    "                        area += c           \n",
    "            if area:\n",
    "                block_begin = surveillance_data.index(area)\n",
    "                total_confirmed = surveillance_data[block_begin+1]\n",
    "                total_new = surveillance_data[block_begin+2]\n",
    "                total_deaths = surveillance_data[block_begin+3]\n",
    "                total_new_deaths = surveillance_data[block_begin+4]\n",
    "                print(region,[ area,total_confirmed,total_new,total_deaths,total_new_deaths])"
   ]
  },
  {
   "cell_type": "markdown",
   "metadata": {},
   "source": [
    "# extract by indexing?"
   ]
  },
  {
   "cell_type": "code",
   "execution_count": 105,
   "metadata": {},
   "outputs": [],
   "source": [
    "def region_index():\n",
    "    region_index = {}\n",
    "    for ri in surveillance_data:\n",
    "        if 'Region' in ri:\n",
    "            region_index[surveillance_data.index(ri)] = ri\n",
    "            #region_index.append(surveillance_data.index(ri))\n",
    "    ri = [ l for l in sorted(region_index.items()) ]\n",
    "    return ri"
   ]
  },
  {
   "cell_type": "code",
   "execution_count": 106,
   "metadata": {},
   "outputs": [],
   "source": [
    "def area_block(ri):\n",
    "    idx_map = {}\n",
    "    for i in range(0,len(ri)-1):\n",
    "        for idx in range(ri[i][0],ri[i+1][0]):\n",
    "            if idx == ri[-1][0]-1:\n",
    "                idx_map[ri[-1][1]] = ri[-1][0]\n",
    "            #print(ri[i][1], 'range:',idx)\n",
    "            idx_map[ri[i][1]] = [ i for i in range(ri[i][0],ri[i+1][0]) ] ,\n",
    "    return idx_map"
   ]
  },
  {
   "cell_type": "code",
   "execution_count": 100,
   "metadata": {},
   "outputs": [],
   "source": [
    "area_index = area_block(region_index())"
   ]
  },
  {
   "cell_type": "code",
   "execution_count": 104,
   "metadata": {},
   "outputs": [
    {
     "data": {
      "text/plain": [
       "'Western Pacific Region'"
      ]
     },
     "execution_count": 104,
     "metadata": {},
     "output_type": "execute_result"
    }
   ],
   "source": [
    "[ a for a in area_index.keys() ][0]"
   ]
  },
  {
   "cell_type": "code",
   "execution_count": null,
   "metadata": {},
   "outputs": [],
   "source": []
  }
 ],
 "metadata": {
  "kernelspec": {
   "display_name": "Python 3",
   "language": "python",
   "name": "python3"
  },
  "language_info": {
   "codemirror_mode": {
    "name": "ipython",
    "version": 3
   },
   "file_extension": ".py",
   "mimetype": "text/x-python",
   "name": "python",
   "nbconvert_exporter": "python",
   "pygments_lexer": "ipython3",
   "version": "3.7.0"
  }
 },
 "nbformat": 4,
 "nbformat_minor": 4
}
